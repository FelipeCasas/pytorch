{
 "cells": [
  {
   "cell_type": "markdown",
   "id": "7be5e7a5",
   "metadata": {},
   "source": [
    "# Custom Classification Network"
   ]
  },
  {
   "cell_type": "code",
   "execution_count": 80,
   "id": "02fabf36",
   "metadata": {},
   "outputs": [],
   "source": [
    "import torch\n",
    "import numpy as np\n",
    "import pandas as pd\n",
    "import seaborn as sns\n",
    "import matplotlib.pyplot as plt\n"
   ]
  },
  {
   "cell_type": "code",
   "execution_count": 81,
   "id": "07875e60",
   "metadata": {},
   "outputs": [
    {
     "data": {
      "text/html": [
       "<div>\n",
       "<style scoped>\n",
       "    .dataframe tbody tr th:only-of-type {\n",
       "        vertical-align: middle;\n",
       "    }\n",
       "\n",
       "    .dataframe tbody tr th {\n",
       "        vertical-align: top;\n",
       "    }\n",
       "\n",
       "    .dataframe thead th {\n",
       "        text-align: right;\n",
       "    }\n",
       "</style>\n",
       "<table border=\"1\" class=\"dataframe\">\n",
       "  <thead>\n",
       "    <tr style=\"text-align: right;\">\n",
       "      <th></th>\n",
       "      <th>Serial No.</th>\n",
       "      <th>GRE Score</th>\n",
       "      <th>TOEFL Score</th>\n",
       "      <th>University Rating</th>\n",
       "      <th>SOP</th>\n",
       "      <th>LOR</th>\n",
       "      <th>CGPA</th>\n",
       "      <th>Research</th>\n",
       "      <th>Chance of Admit</th>\n",
       "    </tr>\n",
       "  </thead>\n",
       "  <tbody>\n",
       "    <tr>\n",
       "      <th>0</th>\n",
       "      <td>1</td>\n",
       "      <td>337</td>\n",
       "      <td>118</td>\n",
       "      <td>4</td>\n",
       "      <td>4.5</td>\n",
       "      <td>4.5</td>\n",
       "      <td>9.65</td>\n",
       "      <td>1</td>\n",
       "      <td>0.92</td>\n",
       "    </tr>\n",
       "    <tr>\n",
       "      <th>1</th>\n",
       "      <td>2</td>\n",
       "      <td>324</td>\n",
       "      <td>107</td>\n",
       "      <td>4</td>\n",
       "      <td>4.0</td>\n",
       "      <td>4.5</td>\n",
       "      <td>8.87</td>\n",
       "      <td>1</td>\n",
       "      <td>0.76</td>\n",
       "    </tr>\n",
       "    <tr>\n",
       "      <th>2</th>\n",
       "      <td>3</td>\n",
       "      <td>316</td>\n",
       "      <td>104</td>\n",
       "      <td>3</td>\n",
       "      <td>3.0</td>\n",
       "      <td>3.5</td>\n",
       "      <td>8.00</td>\n",
       "      <td>1</td>\n",
       "      <td>0.72</td>\n",
       "    </tr>\n",
       "    <tr>\n",
       "      <th>3</th>\n",
       "      <td>4</td>\n",
       "      <td>322</td>\n",
       "      <td>110</td>\n",
       "      <td>3</td>\n",
       "      <td>3.5</td>\n",
       "      <td>2.5</td>\n",
       "      <td>8.67</td>\n",
       "      <td>1</td>\n",
       "      <td>0.80</td>\n",
       "    </tr>\n",
       "    <tr>\n",
       "      <th>4</th>\n",
       "      <td>5</td>\n",
       "      <td>314</td>\n",
       "      <td>103</td>\n",
       "      <td>2</td>\n",
       "      <td>2.0</td>\n",
       "      <td>3.0</td>\n",
       "      <td>8.21</td>\n",
       "      <td>0</td>\n",
       "      <td>0.65</td>\n",
       "    </tr>\n",
       "  </tbody>\n",
       "</table>\n",
       "</div>"
      ],
      "text/plain": [
       "   Serial No.  GRE Score  TOEFL Score  University Rating  SOP  LOR   CGPA  \\\n",
       "0           1        337          118                  4  4.5   4.5  9.65   \n",
       "1           2        324          107                  4  4.0   4.5  8.87   \n",
       "2           3        316          104                  3  3.0   3.5  8.00   \n",
       "3           4        322          110                  3  3.5   2.5  8.67   \n",
       "4           5        314          103                  2  2.0   3.0  8.21   \n",
       "\n",
       "   Research  Chance of Admit   \n",
       "0         1              0.92  \n",
       "1         1              0.76  \n",
       "2         1              0.72  \n",
       "3         1              0.80  \n",
       "4         0              0.65  "
      ]
     },
     "execution_count": 81,
     "metadata": {},
     "output_type": "execute_result"
    }
   ],
   "source": [
    "# Load Data set\n",
    "data = pd.read_csv('datasets/admission_predict.csv')  \n",
    "data.head()\n",
    "#print(data.shape)\n"
   ]
  },
  {
   "cell_type": "code",
   "execution_count": 82,
   "id": "fcbb5ff6",
   "metadata": {},
   "outputs": [
    {
     "data": {
      "text/html": [
       "<div>\n",
       "<style scoped>\n",
       "    .dataframe tbody tr th:only-of-type {\n",
       "        vertical-align: middle;\n",
       "    }\n",
       "\n",
       "    .dataframe tbody tr th {\n",
       "        vertical-align: top;\n",
       "    }\n",
       "\n",
       "    .dataframe thead th {\n",
       "        text-align: right;\n",
       "    }\n",
       "</style>\n",
       "<table border=\"1\" class=\"dataframe\">\n",
       "  <thead>\n",
       "    <tr style=\"text-align: right;\">\n",
       "      <th></th>\n",
       "      <th>Serial No.</th>\n",
       "      <th>GRE Score</th>\n",
       "      <th>TOEFL Score</th>\n",
       "      <th>University Rating</th>\n",
       "      <th>SOP</th>\n",
       "      <th>LOR</th>\n",
       "      <th>CGPA</th>\n",
       "      <th>Research</th>\n",
       "      <th>Chance of Admit</th>\n",
       "    </tr>\n",
       "  </thead>\n",
       "  <tbody>\n",
       "    <tr>\n",
       "      <th>count</th>\n",
       "      <td>400.000000</td>\n",
       "      <td>400.000000</td>\n",
       "      <td>400.000000</td>\n",
       "      <td>400.000000</td>\n",
       "      <td>400.000000</td>\n",
       "      <td>400.000000</td>\n",
       "      <td>400.000000</td>\n",
       "      <td>400.000000</td>\n",
       "      <td>400.000000</td>\n",
       "    </tr>\n",
       "    <tr>\n",
       "      <th>mean</th>\n",
       "      <td>200.500000</td>\n",
       "      <td>316.807500</td>\n",
       "      <td>107.410000</td>\n",
       "      <td>3.087500</td>\n",
       "      <td>3.400000</td>\n",
       "      <td>3.452500</td>\n",
       "      <td>8.598925</td>\n",
       "      <td>0.547500</td>\n",
       "      <td>0.724350</td>\n",
       "    </tr>\n",
       "    <tr>\n",
       "      <th>std</th>\n",
       "      <td>115.614301</td>\n",
       "      <td>11.473646</td>\n",
       "      <td>6.069514</td>\n",
       "      <td>1.143728</td>\n",
       "      <td>1.006869</td>\n",
       "      <td>0.898478</td>\n",
       "      <td>0.596317</td>\n",
       "      <td>0.498362</td>\n",
       "      <td>0.142609</td>\n",
       "    </tr>\n",
       "    <tr>\n",
       "      <th>min</th>\n",
       "      <td>1.000000</td>\n",
       "      <td>290.000000</td>\n",
       "      <td>92.000000</td>\n",
       "      <td>1.000000</td>\n",
       "      <td>1.000000</td>\n",
       "      <td>1.000000</td>\n",
       "      <td>6.800000</td>\n",
       "      <td>0.000000</td>\n",
       "      <td>0.340000</td>\n",
       "    </tr>\n",
       "    <tr>\n",
       "      <th>25%</th>\n",
       "      <td>100.750000</td>\n",
       "      <td>308.000000</td>\n",
       "      <td>103.000000</td>\n",
       "      <td>2.000000</td>\n",
       "      <td>2.500000</td>\n",
       "      <td>3.000000</td>\n",
       "      <td>8.170000</td>\n",
       "      <td>0.000000</td>\n",
       "      <td>0.640000</td>\n",
       "    </tr>\n",
       "    <tr>\n",
       "      <th>50%</th>\n",
       "      <td>200.500000</td>\n",
       "      <td>317.000000</td>\n",
       "      <td>107.000000</td>\n",
       "      <td>3.000000</td>\n",
       "      <td>3.500000</td>\n",
       "      <td>3.500000</td>\n",
       "      <td>8.610000</td>\n",
       "      <td>1.000000</td>\n",
       "      <td>0.730000</td>\n",
       "    </tr>\n",
       "    <tr>\n",
       "      <th>75%</th>\n",
       "      <td>300.250000</td>\n",
       "      <td>325.000000</td>\n",
       "      <td>112.000000</td>\n",
       "      <td>4.000000</td>\n",
       "      <td>4.000000</td>\n",
       "      <td>4.000000</td>\n",
       "      <td>9.062500</td>\n",
       "      <td>1.000000</td>\n",
       "      <td>0.830000</td>\n",
       "    </tr>\n",
       "    <tr>\n",
       "      <th>max</th>\n",
       "      <td>400.000000</td>\n",
       "      <td>340.000000</td>\n",
       "      <td>120.000000</td>\n",
       "      <td>5.000000</td>\n",
       "      <td>5.000000</td>\n",
       "      <td>5.000000</td>\n",
       "      <td>9.920000</td>\n",
       "      <td>1.000000</td>\n",
       "      <td>0.970000</td>\n",
       "    </tr>\n",
       "  </tbody>\n",
       "</table>\n",
       "</div>"
      ],
      "text/plain": [
       "       Serial No.   GRE Score  TOEFL Score  University Rating         SOP  \\\n",
       "count  400.000000  400.000000   400.000000         400.000000  400.000000   \n",
       "mean   200.500000  316.807500   107.410000           3.087500    3.400000   \n",
       "std    115.614301   11.473646     6.069514           1.143728    1.006869   \n",
       "min      1.000000  290.000000    92.000000           1.000000    1.000000   \n",
       "25%    100.750000  308.000000   103.000000           2.000000    2.500000   \n",
       "50%    200.500000  317.000000   107.000000           3.000000    3.500000   \n",
       "75%    300.250000  325.000000   112.000000           4.000000    4.000000   \n",
       "max    400.000000  340.000000   120.000000           5.000000    5.000000   \n",
       "\n",
       "             LOR         CGPA    Research  Chance of Admit   \n",
       "count  400.000000  400.000000  400.000000        400.000000  \n",
       "mean     3.452500    8.598925    0.547500          0.724350  \n",
       "std      0.898478    0.596317    0.498362          0.142609  \n",
       "min      1.000000    6.800000    0.000000          0.340000  \n",
       "25%      3.000000    8.170000    0.000000          0.640000  \n",
       "50%      3.500000    8.610000    1.000000          0.730000  \n",
       "75%      4.000000    9.062500    1.000000          0.830000  \n",
       "max      5.000000    9.920000    1.000000          0.970000  "
      ]
     },
     "execution_count": 82,
     "metadata": {},
     "output_type": "execute_result"
    }
   ],
   "source": [
    "data.describe()"
   ]
  },
  {
   "cell_type": "code",
   "execution_count": 83,
   "id": "400d3476",
   "metadata": {},
   "outputs": [],
   "source": [
    "data = data.rename(index=str, columns={'Chance of Admit ': 'Admit_Probability'})\n",
    "\n",
    "data = data[['GRE Score', 'TOEFL Score', \n",
    "             'University Rating', 'SOP', \n",
    "             'LOR ', 'CGPA', 'Research', \n",
    "             'Admit_Probability']]"
   ]
  },
  {
   "cell_type": "code",
   "execution_count": 84,
   "id": "82b1431c",
   "metadata": {},
   "outputs": [
    {
     "data": {
      "text/html": [
       "<div>\n",
       "<style scoped>\n",
       "    .dataframe tbody tr th:only-of-type {\n",
       "        vertical-align: middle;\n",
       "    }\n",
       "\n",
       "    .dataframe tbody tr th {\n",
       "        vertical-align: top;\n",
       "    }\n",
       "\n",
       "    .dataframe thead th {\n",
       "        text-align: right;\n",
       "    }\n",
       "</style>\n",
       "<table border=\"1\" class=\"dataframe\">\n",
       "  <thead>\n",
       "    <tr style=\"text-align: right;\">\n",
       "      <th></th>\n",
       "      <th>GRE Score</th>\n",
       "      <th>TOEFL Score</th>\n",
       "      <th>University Rating</th>\n",
       "      <th>SOP</th>\n",
       "      <th>LOR</th>\n",
       "      <th>CGPA</th>\n",
       "      <th>Research</th>\n",
       "      <th>Admit_Probability</th>\n",
       "    </tr>\n",
       "  </thead>\n",
       "  <tbody>\n",
       "    <tr>\n",
       "      <th>0</th>\n",
       "      <td>337</td>\n",
       "      <td>118</td>\n",
       "      <td>4</td>\n",
       "      <td>4.5</td>\n",
       "      <td>4.5</td>\n",
       "      <td>9.65</td>\n",
       "      <td>1</td>\n",
       "      <td>0.92</td>\n",
       "    </tr>\n",
       "    <tr>\n",
       "      <th>1</th>\n",
       "      <td>324</td>\n",
       "      <td>107</td>\n",
       "      <td>4</td>\n",
       "      <td>4.0</td>\n",
       "      <td>4.5</td>\n",
       "      <td>8.87</td>\n",
       "      <td>1</td>\n",
       "      <td>0.76</td>\n",
       "    </tr>\n",
       "    <tr>\n",
       "      <th>2</th>\n",
       "      <td>316</td>\n",
       "      <td>104</td>\n",
       "      <td>3</td>\n",
       "      <td>3.0</td>\n",
       "      <td>3.5</td>\n",
       "      <td>8.00</td>\n",
       "      <td>1</td>\n",
       "      <td>0.72</td>\n",
       "    </tr>\n",
       "    <tr>\n",
       "      <th>3</th>\n",
       "      <td>322</td>\n",
       "      <td>110</td>\n",
       "      <td>3</td>\n",
       "      <td>3.5</td>\n",
       "      <td>2.5</td>\n",
       "      <td>8.67</td>\n",
       "      <td>1</td>\n",
       "      <td>0.80</td>\n",
       "    </tr>\n",
       "    <tr>\n",
       "      <th>4</th>\n",
       "      <td>314</td>\n",
       "      <td>103</td>\n",
       "      <td>2</td>\n",
       "      <td>2.0</td>\n",
       "      <td>3.0</td>\n",
       "      <td>8.21</td>\n",
       "      <td>0</td>\n",
       "      <td>0.65</td>\n",
       "    </tr>\n",
       "  </tbody>\n",
       "</table>\n",
       "</div>"
      ],
      "text/plain": [
       "   GRE Score  TOEFL Score  University Rating  SOP  LOR   CGPA  Research  \\\n",
       "0        337          118                  4  4.5   4.5  9.65         1   \n",
       "1        324          107                  4  4.0   4.5  8.87         1   \n",
       "2        316          104                  3  3.0   3.5  8.00         1   \n",
       "3        322          110                  3  3.5   2.5  8.67         1   \n",
       "4        314          103                  2  2.0   3.0  8.21         0   \n",
       "\n",
       "   Admit_Probability  \n",
       "0               0.92  \n",
       "1               0.76  \n",
       "2               0.72  \n",
       "3               0.80  \n",
       "4               0.65  "
      ]
     },
     "execution_count": 84,
     "metadata": {},
     "output_type": "execute_result"
    }
   ],
   "source": [
    "data.head()\n",
    "data.head()"
   ]
  },
  {
   "cell_type": "code",
   "execution_count": 85,
   "id": "0228f52d",
   "metadata": {},
   "outputs": [
    {
     "data": {
      "text/plain": [
       "Text(0, 0.5, 'CGPA')"
      ]
     },
     "execution_count": 85,
     "metadata": {},
     "output_type": "execute_result"
    },
    {
     "data": {
      "image/png": "[encoded data removed]",
      "text/plain": [
       "<Figure size 576x576 with 1 Axes>"
      ]
     },
     "metadata": {
      "needs_background": "light"
     },
     "output_type": "display_data"
    }
   ],
   "source": [
    "plt.figure(figsize=(8, 8))\n",
    "\n",
    "fig = sns.scatterplot(x = 'Admit_Probability', y = 'CGPA', data = data, hue = 'Research')\n",
    "\n",
    "plt.title(\"CGPA vs Admit Probability\")\n",
    "\n",
    "plt.xlabel('Admit_Probability')\n",
    "plt.ylabel('CGPA')"
   ]
  },
  {
   "cell_type": "code",
   "execution_count": 86,
   "id": "f21369a3",
   "metadata": {},
   "outputs": [
    {
     "data": {
      "text/plain": [
       "Text(0, 0.5, 'CGPA')"
      ]
     },
     "execution_count": 86,
     "metadata": {},
     "output_type": "execute_result"
    },
    {
     "data": {
      "image/png": "[encoded data removed]",
      "text/plain": [
       "<Figure size 576x576 with 1 Axes>"
      ]
     },
     "metadata": {
      "needs_background": "light"
     },
     "output_type": "display_data"
    }
   ],
   "source": [
    "plt.figure(figsize=(8, 8))\n",
    "\n",
    "fig = sns.scatterplot(x = 'GRE Score', y = 'CGPA', data = data)\n",
    "plt.title(\"GRE Score vs CGPA\")\n",
    "\n",
    "plt.xlabel('Admit_Probability')\n",
    "plt.ylabel('CGPA')"
   ]
  },
  {
   "cell_type": "code",
   "execution_count": 87,
   "id": "7b8499be",
   "metadata": {},
   "outputs": [
    {
     "data": {
      "image/png": "[encoded data removed]",
      "text/plain": [
       "<Figure size 720x720 with 2 Axes>"
      ]
     },
     "metadata": {
      "needs_background": "light"
     },
     "output_type": "display_data"
    }
   ],
   "source": [
    "plt.figure(figsize=(10, 10))\n",
    "\n",
    "sns.heatmap(data.corr(), annot=True, linewidths=0.05, fmt= '.2f')\n",
    "\n",
    "plt.show()"
   ]
  },
  {
   "cell_type": "code",
   "execution_count": 88,
   "id": "758878c8",
   "metadata": {},
   "outputs": [],
   "source": [
    "from sklearn import preprocessing"
   ]
  },
  {
   "cell_type": "code",
   "execution_count": 89,
   "id": "832857d2",
   "metadata": {},
   "outputs": [],
   "source": [
    "#Standarizing features\n",
    "data[['GRE Score', 'TOEFL Score', 'SOP', 'LOR ', 'CGPA' ]] = \\\n",
    "                preprocessing.scale(data[['GRE Score', 'TOEFL Score','SOP', 'LOR ', 'CGPA']])"
   ]
  },
  {
   "cell_type": "code",
   "execution_count": 90,
   "id": "f3b70dd9",
   "metadata": {},
   "outputs": [
    {
     "data": {
      "text/html": [
       "<div>\n",
       "<style scoped>\n",
       "    .dataframe tbody tr th:only-of-type {\n",
       "        vertical-align: middle;\n",
       "    }\n",
       "\n",
       "    .dataframe tbody tr th {\n",
       "        vertical-align: top;\n",
       "    }\n",
       "\n",
       "    .dataframe thead th {\n",
       "        text-align: right;\n",
       "    }\n",
       "</style>\n",
       "<table border=\"1\" class=\"dataframe\">\n",
       "  <thead>\n",
       "    <tr style=\"text-align: right;\">\n",
       "      <th></th>\n",
       "      <th>GRE Score</th>\n",
       "      <th>TOEFL Score</th>\n",
       "      <th>University Rating</th>\n",
       "      <th>SOP</th>\n",
       "      <th>LOR</th>\n",
       "      <th>CGPA</th>\n",
       "      <th>Research</th>\n",
       "      <th>Admit_Probability</th>\n",
       "    </tr>\n",
       "  </thead>\n",
       "  <tbody>\n",
       "    <tr>\n",
       "      <th>187</th>\n",
       "      <td>1.587576</td>\n",
       "      <td>1.746971</td>\n",
       "      <td>5</td>\n",
       "      <td>1.093864</td>\n",
       "      <td>0.052933</td>\n",
       "      <td>1.412216</td>\n",
       "      <td>1</td>\n",
       "      <td>0.93</td>\n",
       "    </tr>\n",
       "    <tr>\n",
       "      <th>48</th>\n",
       "      <td>0.365860</td>\n",
       "      <td>0.427257</td>\n",
       "      <td>3</td>\n",
       "      <td>0.099442</td>\n",
       "      <td>1.724515</td>\n",
       "      <td>0.421570</td>\n",
       "      <td>1</td>\n",
       "      <td>0.82</td>\n",
       "    </tr>\n",
       "    <tr>\n",
       "      <th>149</th>\n",
       "      <td>-0.506794</td>\n",
       "      <td>-0.232599</td>\n",
       "      <td>2</td>\n",
       "      <td>0.099442</td>\n",
       "      <td>-0.504260</td>\n",
       "      <td>-0.569076</td>\n",
       "      <td>1</td>\n",
       "      <td>0.79</td>\n",
       "    </tr>\n",
       "    <tr>\n",
       "      <th>385</th>\n",
       "      <td>1.587576</td>\n",
       "      <td>1.582006</td>\n",
       "      <td>5</td>\n",
       "      <td>1.591075</td>\n",
       "      <td>1.724515</td>\n",
       "      <td>2.050259</td>\n",
       "      <td>1</td>\n",
       "      <td>0.96</td>\n",
       "    </tr>\n",
       "    <tr>\n",
       "      <th>367</th>\n",
       "      <td>-0.506794</td>\n",
       "      <td>-1.552313</td>\n",
       "      <td>1</td>\n",
       "      <td>-2.386613</td>\n",
       "      <td>-1.061454</td>\n",
       "      <td>-1.912324</td>\n",
       "      <td>0</td>\n",
       "      <td>0.57</td>\n",
       "    </tr>\n",
       "    <tr>\n",
       "      <th>22</th>\n",
       "      <td>0.976718</td>\n",
       "      <td>1.417042</td>\n",
       "      <td>5</td>\n",
       "      <td>1.591075</td>\n",
       "      <td>1.724515</td>\n",
       "      <td>1.512959</td>\n",
       "      <td>1</td>\n",
       "      <td>0.94</td>\n",
       "    </tr>\n",
       "    <tr>\n",
       "      <th>154</th>\n",
       "      <td>0.802187</td>\n",
       "      <td>0.097329</td>\n",
       "      <td>3</td>\n",
       "      <td>-0.397769</td>\n",
       "      <td>0.052933</td>\n",
       "      <td>0.488732</td>\n",
       "      <td>0</td>\n",
       "      <td>0.80</td>\n",
       "    </tr>\n",
       "    <tr>\n",
       "      <th>258</th>\n",
       "      <td>0.802187</td>\n",
       "      <td>-0.892456</td>\n",
       "      <td>4</td>\n",
       "      <td>1.591075</td>\n",
       "      <td>1.724515</td>\n",
       "      <td>0.270455</td>\n",
       "      <td>1</td>\n",
       "      <td>0.77</td>\n",
       "    </tr>\n",
       "    <tr>\n",
       "      <th>74</th>\n",
       "      <td>-0.244998</td>\n",
       "      <td>-0.232599</td>\n",
       "      <td>3</td>\n",
       "      <td>-0.397769</td>\n",
       "      <td>1.724515</td>\n",
       "      <td>0.505523</td>\n",
       "      <td>0</td>\n",
       "      <td>0.74</td>\n",
       "    </tr>\n",
       "    <tr>\n",
       "      <th>47</th>\n",
       "      <td>1.936637</td>\n",
       "      <td>1.911935</td>\n",
       "      <td>5</td>\n",
       "      <td>1.093864</td>\n",
       "      <td>0.610127</td>\n",
       "      <td>1.848771</td>\n",
       "      <td>0</td>\n",
       "      <td>0.89</td>\n",
       "    </tr>\n",
       "  </tbody>\n",
       "</table>\n",
       "</div>"
      ],
      "text/plain": [
       "     GRE Score  TOEFL Score  University Rating       SOP      LOR       CGPA  \\\n",
       "187   1.587576     1.746971                  5  1.093864  0.052933  1.412216   \n",
       "48    0.365860     0.427257                  3  0.099442  1.724515  0.421570   \n",
       "149  -0.506794    -0.232599                  2  0.099442 -0.504260 -0.569076   \n",
       "385   1.587576     1.582006                  5  1.591075  1.724515  2.050259   \n",
       "367  -0.506794    -1.552313                  1 -2.386613 -1.061454 -1.912324   \n",
       "22    0.976718     1.417042                  5  1.591075  1.724515  1.512959   \n",
       "154   0.802187     0.097329                  3 -0.397769  0.052933  0.488732   \n",
       "258   0.802187    -0.892456                  4  1.591075  1.724515  0.270455   \n",
       "74   -0.244998    -0.232599                  3 -0.397769  1.724515  0.505523   \n",
       "47    1.936637     1.911935                  5  1.093864  0.610127  1.848771   \n",
       "\n",
       "     Research  Admit_Probability  \n",
       "187         1               0.93  \n",
       "48          1               0.82  \n",
       "149         1               0.79  \n",
       "385         1               0.96  \n",
       "367         0               0.57  \n",
       "22          1               0.94  \n",
       "154         0               0.80  \n",
       "258         1               0.77  \n",
       "74          0               0.74  \n",
       "47          0               0.89  "
      ]
     },
     "execution_count": 90,
     "metadata": {},
     "output_type": "execute_result"
    }
   ],
   "source": [
    "data.sample(10)"
   ]
  },
  {
   "cell_type": "code",
   "execution_count": 91,
   "id": "db8c5c69",
   "metadata": {},
   "outputs": [
    {
     "data": {
      "text/html": [
       "<div>\n",
       "<style scoped>\n",
       "    .dataframe tbody tr th:only-of-type {\n",
       "        vertical-align: middle;\n",
       "    }\n",
       "\n",
       "    .dataframe tbody tr th {\n",
       "        vertical-align: top;\n",
       "    }\n",
       "\n",
       "    .dataframe thead th {\n",
       "        text-align: right;\n",
       "    }\n",
       "</style>\n",
       "<table border=\"1\" class=\"dataframe\">\n",
       "  <thead>\n",
       "    <tr style=\"text-align: right;\">\n",
       "      <th></th>\n",
       "      <th>GRE Score</th>\n",
       "      <th>TOEFL Score</th>\n",
       "      <th>SOP</th>\n",
       "      <th>LOR</th>\n",
       "      <th>CGPA</th>\n",
       "    </tr>\n",
       "  </thead>\n",
       "  <tbody>\n",
       "    <tr>\n",
       "      <th>0</th>\n",
       "      <td>1.762107</td>\n",
       "      <td>1.746971</td>\n",
       "      <td>1.093864</td>\n",
       "      <td>1.167321</td>\n",
       "      <td>1.764818</td>\n",
       "    </tr>\n",
       "    <tr>\n",
       "      <th>1</th>\n",
       "      <td>0.627656</td>\n",
       "      <td>-0.067635</td>\n",
       "      <td>0.596653</td>\n",
       "      <td>1.167321</td>\n",
       "      <td>0.455151</td>\n",
       "    </tr>\n",
       "    <tr>\n",
       "      <th>2</th>\n",
       "      <td>-0.070467</td>\n",
       "      <td>-0.562528</td>\n",
       "      <td>-0.397769</td>\n",
       "      <td>0.052933</td>\n",
       "      <td>-1.005631</td>\n",
       "    </tr>\n",
       "    <tr>\n",
       "      <th>3</th>\n",
       "      <td>0.453126</td>\n",
       "      <td>0.427257</td>\n",
       "      <td>0.099442</td>\n",
       "      <td>-1.061454</td>\n",
       "      <td>0.119339</td>\n",
       "    </tr>\n",
       "    <tr>\n",
       "      <th>4</th>\n",
       "      <td>-0.244998</td>\n",
       "      <td>-0.727492</td>\n",
       "      <td>-1.392191</td>\n",
       "      <td>-0.504260</td>\n",
       "      <td>-0.653029</td>\n",
       "    </tr>\n",
       "  </tbody>\n",
       "</table>\n",
       "</div>"
      ],
      "text/plain": [
       "   GRE Score  TOEFL Score       SOP      LOR       CGPA\n",
       "0   1.762107     1.746971  1.093864  1.167321  1.764818\n",
       "1   0.627656    -0.067635  0.596653  1.167321  0.455151\n",
       "2  -0.070467    -0.562528 -0.397769  0.052933 -1.005631\n",
       "3   0.453126     0.427257  0.099442 -1.061454  0.119339\n",
       "4  -0.244998    -0.727492 -1.392191 -0.504260 -0.653029"
      ]
     },
     "execution_count": 91,
     "metadata": {},
     "output_type": "execute_result"
    }
   ],
   "source": [
    "col = ['GRE Score','TOEFL Score', 'SOP', 'LOR ', 'CGPA']\n",
    "\n",
    "features = data[col]\n",
    "features.head()"
   ]
  },
  {
   "cell_type": "code",
   "execution_count": 92,
   "id": "d31f9428",
   "metadata": {},
   "outputs": [
    {
     "data": {
      "text/html": [
       "<div>\n",
       "<style scoped>\n",
       "    .dataframe tbody tr th:only-of-type {\n",
       "        vertical-align: middle;\n",
       "    }\n",
       "\n",
       "    .dataframe tbody tr th {\n",
       "        vertical-align: top;\n",
       "    }\n",
       "\n",
       "    .dataframe thead th {\n",
       "        text-align: right;\n",
       "    }\n",
       "</style>\n",
       "<table border=\"1\" class=\"dataframe\">\n",
       "  <thead>\n",
       "    <tr style=\"text-align: right;\">\n",
       "      <th></th>\n",
       "      <th>Admit_Probability</th>\n",
       "    </tr>\n",
       "  </thead>\n",
       "  <tbody>\n",
       "    <tr>\n",
       "      <th>0</th>\n",
       "      <td>0.92</td>\n",
       "    </tr>\n",
       "    <tr>\n",
       "      <th>1</th>\n",
       "      <td>0.76</td>\n",
       "    </tr>\n",
       "    <tr>\n",
       "      <th>2</th>\n",
       "      <td>0.72</td>\n",
       "    </tr>\n",
       "    <tr>\n",
       "      <th>3</th>\n",
       "      <td>0.80</td>\n",
       "    </tr>\n",
       "    <tr>\n",
       "      <th>4</th>\n",
       "      <td>0.65</td>\n",
       "    </tr>\n",
       "  </tbody>\n",
       "</table>\n",
       "</div>"
      ],
      "text/plain": [
       "   Admit_Probability\n",
       "0               0.92\n",
       "1               0.76\n",
       "2               0.72\n",
       "3               0.80\n",
       "4               0.65"
      ]
     },
     "execution_count": 92,
     "metadata": {},
     "output_type": "execute_result"
    }
   ],
   "source": [
    "target = data[['Admit_Probability']]\n",
    "target.head()"
   ]
  },
  {
   "cell_type": "code",
   "execution_count": 93,
   "id": "62eefaaa",
   "metadata": {},
   "outputs": [
    {
     "data": {
      "text/html": [
       "<div>\n",
       "<style scoped>\n",
       "    .dataframe tbody tr th:only-of-type {\n",
       "        vertical-align: middle;\n",
       "    }\n",
       "\n",
       "    .dataframe tbody tr th {\n",
       "        vertical-align: top;\n",
       "    }\n",
       "\n",
       "    .dataframe thead th {\n",
       "        text-align: right;\n",
       "    }\n",
       "</style>\n",
       "<table border=\"1\" class=\"dataframe\">\n",
       "  <thead>\n",
       "    <tr style=\"text-align: right;\">\n",
       "      <th></th>\n",
       "      <th>Admit_Probability</th>\n",
       "    </tr>\n",
       "  </thead>\n",
       "  <tbody>\n",
       "    <tr>\n",
       "      <th>0</th>\n",
       "      <td>2.0</td>\n",
       "    </tr>\n",
       "    <tr>\n",
       "      <th>1</th>\n",
       "      <td>1.0</td>\n",
       "    </tr>\n",
       "    <tr>\n",
       "      <th>2</th>\n",
       "      <td>1.0</td>\n",
       "    </tr>\n",
       "    <tr>\n",
       "      <th>3</th>\n",
       "      <td>2.0</td>\n",
       "    </tr>\n",
       "    <tr>\n",
       "      <th>4</th>\n",
       "      <td>1.0</td>\n",
       "    </tr>\n",
       "  </tbody>\n",
       "</table>\n",
       "</div>"
      ],
      "text/plain": [
       "   Admit_Probability\n",
       "0                2.0\n",
       "1                1.0\n",
       "2                1.0\n",
       "3                2.0\n",
       "4                1.0"
      ]
     },
     "execution_count": 93,
     "metadata": {},
     "output_type": "execute_result"
    }
   ],
   "source": [
    "# Create new Output y of 3 classes\n",
    "y = target.copy()\n",
    "\n",
    "\n",
    "y['Admit_Probability'] = y['Admit_Probability']*100\n",
    "\n",
    "y['Admit_Probability'][target['Admit_Probability']< 0.60] = int(0)\n",
    "y['Admit_Probability'][target['Admit_Probability']>= 0.60] = int(1)\n",
    "y['Admit_Probability'][target['Admit_Probability']>= 0.80] = int(2)\n",
    "y.head()"
   ]
  },
  {
   "cell_type": "code",
   "execution_count": 94,
   "id": "5f497f17",
   "metadata": {},
   "outputs": [
    {
     "data": {
      "text/plain": [
       "array([2., 1., 0.])"
      ]
     },
     "execution_count": 94,
     "metadata": {},
     "output_type": "execute_result"
    }
   ],
   "source": [
    "target = y\n",
    "target['Admit_Probability'].unique() # Check that the replacement was ok"
   ]
  },
  {
   "cell_type": "code",
   "execution_count": 95,
   "id": "eaaf1d49",
   "metadata": {},
   "outputs": [
    {
     "data": {
      "text/html": [
       "<div>\n",
       "<style scoped>\n",
       "    .dataframe tbody tr th:only-of-type {\n",
       "        vertical-align: middle;\n",
       "    }\n",
       "\n",
       "    .dataframe tbody tr th {\n",
       "        vertical-align: top;\n",
       "    }\n",
       "\n",
       "    .dataframe thead th {\n",
       "        text-align: right;\n",
       "    }\n",
       "</style>\n",
       "<table border=\"1\" class=\"dataframe\">\n",
       "  <thead>\n",
       "    <tr style=\"text-align: right;\">\n",
       "      <th></th>\n",
       "      <th>Admit_Probability</th>\n",
       "    </tr>\n",
       "  </thead>\n",
       "  <tbody>\n",
       "    <tr>\n",
       "      <th>0</th>\n",
       "      <td>2.0</td>\n",
       "    </tr>\n",
       "    <tr>\n",
       "      <th>1</th>\n",
       "      <td>1.0</td>\n",
       "    </tr>\n",
       "    <tr>\n",
       "      <th>2</th>\n",
       "      <td>1.0</td>\n",
       "    </tr>\n",
       "    <tr>\n",
       "      <th>3</th>\n",
       "      <td>2.0</td>\n",
       "    </tr>\n",
       "    <tr>\n",
       "      <th>4</th>\n",
       "      <td>1.0</td>\n",
       "    </tr>\n",
       "  </tbody>\n",
       "</table>\n",
       "</div>"
      ],
      "text/plain": [
       "   Admit_Probability\n",
       "0                2.0\n",
       "1                1.0\n",
       "2                1.0\n",
       "3                2.0\n",
       "4                1.0"
      ]
     },
     "execution_count": 95,
     "metadata": {},
     "output_type": "execute_result"
    }
   ],
   "source": [
    "target.head()"
   ]
  },
  {
   "cell_type": "code",
   "execution_count": 96,
   "id": "072a3177",
   "metadata": {},
   "outputs": [],
   "source": [
    "from sklearn.model_selection import train_test_split"
   ]
  },
  {
   "cell_type": "code",
   "execution_count": 97,
   "id": "4dd53a4c",
   "metadata": {},
   "outputs": [
    {
     "name": "stdout",
     "output_type": "stream",
     "text": [
      "torch.Size([320, 5]) torch.Size([320]) torch.Size([80])\n"
     ]
    }
   ],
   "source": [
    "# split data\n",
    "X_train, x_test, Y_train, y_test = train_test_split(features,\n",
    "                                                    target,\n",
    "                                                    test_size=0.2)\n",
    "# Turn it to tensor\n",
    "Xtrain = torch.from_numpy(X_train.values).float()\n",
    "Xtest = torch.from_numpy(x_test.values).float()\n",
    "Ytrain = torch.from_numpy(Y_train.values).view(1, -1)[0].long()\n",
    "Ytest = torch.from_numpy(y_test.values).view(1, -1)[0].long()\n",
    "\n",
    "print(Xtrain.shape, Ytrain.shape, Ytest.shape)"
   ]
  },
  {
   "cell_type": "code",
   "execution_count": 98,
   "id": "0a0cb7c3",
   "metadata": {},
   "outputs": [],
   "source": [
    "import torch.nn as nn\n",
    "import torch.nn.functional as F"
   ]
  },
  {
   "cell_type": "code",
   "execution_count": 99,
   "id": "079997e5",
   "metadata": {},
   "outputs": [],
   "source": [
    "input_size = Xtrain.shape[1]\n",
    "\n",
    "output_size = len(target['Admit_Probability'].unique()) # no. of classes output size\n"
   ]
  },
  {
   "cell_type": "code",
   "execution_count": 100,
   "id": "6dcb2cd2",
   "metadata": {},
   "outputs": [],
   "source": [
    "class Net(nn.Module): #Inheritance\n",
    "    \n",
    "    def __init__(self,hidden_size, activation_fn = 'relu', apply_dropout=False): \n",
    "        super(Net, self).__init__()\n",
    "        \n",
    "        self.fc1 = nn.Linear(input_size, hidden_size) \n",
    "        self.fc2 = nn.Linear(hidden_size, hidden_size)\n",
    "        self.fc3 = nn.Linear(hidden_size, output_size)\n",
    "        \n",
    "        self.hidden_size = hidden_size\n",
    "        self.activation_fn = activation_fn\n",
    "        \n",
    "        self.dropout = None\n",
    "        if apply_dropout:\n",
    "            self.dropout = nn.Dropout(0.2)\n",
    "\n",
    "    def forward(self, x):\n",
    "        ''' When creating customs the forward must be specified.\n",
    "        Here you state what how the input is transformed to the output. \n",
    "        The tensor classes takes care of the backward passes and calculation\n",
    "        '''\n",
    "        activation_fn = None\n",
    "        if  self.activation_fn == 'sigmoid':\n",
    "                activation_fn = F.torch.sigmoid\n",
    "\n",
    "        elif self.activation_fn == 'tanh':\n",
    "                activation_fn = F.torch.tanh\n",
    "\n",
    "        elif self.activation_fn == 'relu':\n",
    "                 activation_fn = F.relu\n",
    "\n",
    "        x = activation_fn(self.fc1(x))\n",
    "        x = activation_fn(self.fc2(x))\n",
    "\n",
    "        if self.dropout != None:\n",
    "            x = self.dropout(x)\n",
    "\n",
    "        x = self.fc3(x) \n",
    "        return F.log_softmax(x, dim = -1) # Faster way of softmax with less numeric bugs"
   ]
  },
  {
   "cell_type": "code",
   "execution_count": 101,
   "id": "1a99c819",
   "metadata": {},
   "outputs": [],
   "source": [
    "import torch.optim as optim"
   ]
  },
  {
   "cell_type": "code",
   "execution_count": 103,
   "id": "9f93528f",
   "metadata": {},
   "outputs": [],
   "source": [
    "def train_and_evaluate_model(model, learn_rate=0.001):\n",
    "    ''' Training function\n",
    "    Args:\n",
    "    model: pytorch model class\n",
    "    '''\n",
    "    epoch_data = []\n",
    "    epochs = 1001\n",
    "    \n",
    "    optimizer = optim.Adam(model.parameters(), lr=learn_rate)\n",
    "    \n",
    "    loss_fn = nn.NLLLoss()\n",
    "    \n",
    "    test_accuracy = 0.0\n",
    "    for epoch in range(1, epochs):\n",
    "\n",
    "        optimizer.zero_grad()\n",
    "\n",
    "        Ypred = model(Xtrain)\n",
    "\n",
    "        loss = loss_fn(Ypred , Ytrain)\n",
    "        loss.backward()\n",
    "\n",
    "        optimizer.step()\n",
    "\n",
    "        Ypred_test = model(Xtest)\n",
    "        loss_test = loss_fn(Ypred_test, Ytest)\n",
    "\n",
    "        _, pred = Ypred_test.data.max(1)\n",
    "\n",
    "        test_accuracy = pred.eq(Ytest.data).sum().item() / y_test.values.size\n",
    "        \n",
    "        epoch_data.append([epoch, loss.data.item(), loss_test.data.item(), test_accuracy])\n",
    "\n",
    "        if epoch % 100 == 0:\n",
    "            print ('epoch - %d (%d%%) train loss - %.2f test loss - %.2f Test accuracy - %.4f'\\\n",
    "                   % (epoch, epoch/150 * 10 , loss.data.item(), loss_test.data.item(), test_accuracy))\n",
    "            \n",
    "\n",
    "    return {'model' : model,\n",
    "            'epoch_data' : epoch_data, \n",
    "            'num_epochs' : epochs, \n",
    "            'optimizer' : optimizer, \n",
    "            'loss_fn' : loss_fn,\n",
    "            'test_accuracy' : test_accuracy,\n",
    "            '_, pred' : Ypred_test.data.max(1),\n",
    "            'actual_test_label' : Ytest,\n",
    "            }"
   ]
  },
  {
   "cell_type": "code",
   "execution_count": 104,
   "id": "dd632fcb",
   "metadata": {},
   "outputs": [
    {
     "data": {
      "text/plain": [
       "Net(\n",
       "  (fc1): Linear(in_features=5, out_features=3, bias=True)\n",
       "  (fc2): Linear(in_features=3, out_features=3, bias=True)\n",
       "  (fc3): Linear(in_features=3, out_features=3, bias=True)\n",
       ")"
      ]
     },
     "execution_count": 104,
     "metadata": {},
     "output_type": "execute_result"
    }
   ],
   "source": [
    "net = Net(hidden_size=3, activation_fn='sigmoid', apply_dropout=False)\n",
    "\n",
    "net"
   ]
  },
  {
   "cell_type": "code",
   "execution_count": 105,
   "id": "f1a21923",
   "metadata": {},
   "outputs": [
    {
     "name": "stdout",
     "output_type": "stream",
     "text": [
      "epoch - 100 (6%) train loss - 1.14 test loss - 1.14 Test accuracy - 0.1750\n",
      "epoch - 200 (13%) train loss - 1.06 test loss - 1.06 Test accuracy - 0.4750\n",
      "epoch - 300 (20%) train loss - 1.01 test loss - 1.02 Test accuracy - 0.4750\n",
      "epoch - 400 (26%) train loss - 0.98 test loss - 0.99 Test accuracy - 0.4750\n",
      "epoch - 500 (33%) train loss - 0.95 test loss - 0.95 Test accuracy - 0.4750\n",
      "epoch - 600 (40%) train loss - 0.90 test loss - 0.91 Test accuracy - 0.4750\n",
      "epoch - 700 (46%) train loss - 0.85 test loss - 0.86 Test accuracy - 0.7125\n",
      "epoch - 800 (53%) train loss - 0.80 test loss - 0.81 Test accuracy - 0.7625\n",
      "epoch - 900 (60%) train loss - 0.75 test loss - 0.76 Test accuracy - 0.7375\n",
      "epoch - 1000 (66%) train loss - 0.71 test loss - 0.72 Test accuracy - 0.7375\n"
     ]
    }
   ],
   "source": [
    "result_3_sigmoid = train_and_evaluate_model(net)"
   ]
  },
  {
   "cell_type": "code",
   "execution_count": 106,
   "id": "d21d914f",
   "metadata": {},
   "outputs": [
    {
     "name": "stdout",
     "output_type": "stream",
     "text": [
      "epoch - 100 (6%) train loss - 0.44 test loss - 0.47 Test accuracy - 0.8125\n",
      "epoch - 200 (13%) train loss - 0.41 test loss - 0.49 Test accuracy - 0.8250\n",
      "epoch - 300 (20%) train loss - 0.39 test loss - 0.50 Test accuracy - 0.8250\n",
      "epoch - 400 (26%) train loss - 0.37 test loss - 0.53 Test accuracy - 0.8125\n",
      "epoch - 500 (33%) train loss - 0.34 test loss - 0.56 Test accuracy - 0.7750\n",
      "epoch - 600 (40%) train loss - 0.31 test loss - 0.60 Test accuracy - 0.7750\n",
      "epoch - 700 (46%) train loss - 0.27 test loss - 0.63 Test accuracy - 0.7875\n",
      "epoch - 800 (53%) train loss - 0.24 test loss - 0.67 Test accuracy - 0.7875\n",
      "epoch - 900 (60%) train loss - 0.21 test loss - 0.73 Test accuracy - 0.7750\n",
      "epoch - 1000 (66%) train loss - 0.17 test loss - 0.79 Test accuracy - 0.7250\n"
     ]
    }
   ],
   "source": [
    "net = Net(hidden_size=50, activation_fn='tanh')\n",
    "\n",
    "result_50_tanh = train_and_evaluate_model(net)"
   ]
  },
  {
   "cell_type": "code",
   "execution_count": 107,
   "id": "c7cfe36d",
   "metadata": {},
   "outputs": [
    {
     "name": "stdout",
     "output_type": "stream",
     "text": [
      "epoch - 100 (6%) train loss - 0.32 test loss - 0.56 Test accuracy - 0.7875\n",
      "epoch - 200 (13%) train loss - 0.17 test loss - 0.71 Test accuracy - 0.7625\n",
      "epoch - 300 (20%) train loss - 0.07 test loss - 0.88 Test accuracy - 0.7625\n",
      "epoch - 400 (26%) train loss - 0.04 test loss - 1.19 Test accuracy - 0.7250\n",
      "epoch - 500 (33%) train loss - 0.02 test loss - 1.19 Test accuracy - 0.7125\n",
      "epoch - 600 (40%) train loss - 0.02 test loss - 1.11 Test accuracy - 0.7875\n",
      "epoch - 700 (46%) train loss - 0.01 test loss - 1.34 Test accuracy - 0.7250\n",
      "epoch - 800 (53%) train loss - 0.01 test loss - 1.28 Test accuracy - 0.7625\n",
      "epoch - 900 (60%) train loss - 0.00 test loss - 1.41 Test accuracy - 0.7375\n",
      "epoch - 1000 (66%) train loss - 0.01 test loss - 1.54 Test accuracy - 0.7250\n"
     ]
    }
   ],
   "source": [
    "net = Net(hidden_size=1000, activation_fn='tanh', apply_dropout=True)\n",
    "\n",
    "result_1000_tanh = train_and_evaluate_model(net)"
   ]
  },
  {
   "cell_type": "code",
   "execution_count": 108,
   "id": "ef0685b9",
   "metadata": {},
   "outputs": [
    {
     "name": "stdout",
     "output_type": "stream",
     "text": [
      "epoch - 100 (6%) train loss - 0.53 test loss - 0.53 Test accuracy - 0.8250\n",
      "epoch - 200 (13%) train loss - 0.45 test loss - 0.48 Test accuracy - 0.8000\n",
      "epoch - 300 (20%) train loss - 0.43 test loss - 0.48 Test accuracy - 0.8250\n",
      "epoch - 400 (26%) train loss - 0.41 test loss - 0.48 Test accuracy - 0.8000\n",
      "epoch - 500 (33%) train loss - 0.41 test loss - 0.49 Test accuracy - 0.8125\n",
      "epoch - 600 (40%) train loss - 0.40 test loss - 0.49 Test accuracy - 0.8250\n",
      "epoch - 700 (46%) train loss - 0.40 test loss - 0.50 Test accuracy - 0.8250\n",
      "epoch - 800 (53%) train loss - 0.39 test loss - 0.51 Test accuracy - 0.8125\n",
      "epoch - 900 (60%) train loss - 0.39 test loss - 0.51 Test accuracy - 0.8125\n",
      "epoch - 1000 (66%) train loss - 0.38 test loss - 0.52 Test accuracy - 0.8250\n"
     ]
    }
   ],
   "source": [
    "net = Net(hidden_size=100, activation_fn='sigmoid')\n",
    "\n",
    "result_100_sigmoid = train_and_evaluate_model(net)"
   ]
  },
  {
   "cell_type": "code",
   "execution_count": 109,
   "id": "c63a6944",
   "metadata": {},
   "outputs": [],
   "source": [
    "# Best Model\n",
    "result_model = result_100_sigmoid\n",
    "df_epochs_data = pd.DataFrame(result_model['epoch_data'], \n",
    "                              columns=[\"epoch\", \"train_loss\", \"test_loss\", \"accuracy\"])"
   ]
  },
  {
   "cell_type": "code",
   "execution_count": 110,
   "id": "603e259b",
   "metadata": {},
   "outputs": [
    {
     "data": {
      "image/png": "[encoded data removed]",
      "text/plain": [
       "<Figure size 864x576 with 2 Axes>"
      ]
     },
     "metadata": {
      "needs_background": "light"
     },
     "output_type": "display_data"
    }
   ],
   "source": [
    "f, (ax1, ax2) = plt.subplots(1, 2, figsize=(12, 8))\n",
    "\n",
    "df_epochs_data[[\"train_loss\", \"test_loss\"]].plot(ax=ax1)\n",
    "df_epochs_data[[\"accuracy\"]].plot(ax=ax2)\n",
    "\n",
    "plt.ylim(bottom = 0.5)\n",
    "\n",
    "plt.show()"
   ]
  },
  {
   "cell_type": "code",
   "execution_count": 111,
   "id": "1c0b8879",
   "metadata": {},
   "outputs": [],
   "source": [
    "from sklearn.metrics import confusion_matrix, recall_score, precision_score"
   ]
  },
  {
   "cell_type": "code",
   "execution_count": 112,
   "id": "1a334f91",
   "metadata": {},
   "outputs": [],
   "source": [
    "_, pred = result_model['_, pred'] "
   ]
  },
  {
   "cell_type": "code",
   "execution_count": 113,
   "id": "0d773ff8",
   "metadata": {},
   "outputs": [],
   "source": [
    "y_pred = pred.detach().numpy()"
   ]
  },
  {
   "cell_type": "code",
   "execution_count": 114,
   "id": "bb63ed60",
   "metadata": {},
   "outputs": [],
   "source": [
    "Ytest = result_model['actual_test_label'].detach().numpy()"
   ]
  },
  {
   "cell_type": "code",
   "execution_count": 115,
   "id": "e5627ce0",
   "metadata": {},
   "outputs": [],
   "source": [
    "results = confusion_matrix(Ytest, y_pred)"
   ]
  },
  {
   "cell_type": "code",
   "execution_count": 116,
   "id": "5001d7c5",
   "metadata": {},
   "outputs": [
    {
     "data": {
      "text/plain": [
       "array([[ 8,  5,  1],\n",
       "       [ 1, 33,  4],\n",
       "       [ 0,  3, 25]], dtype=int64)"
      ]
     },
     "execution_count": 116,
     "metadata": {},
     "output_type": "execute_result"
    }
   ],
   "source": [
    "results"
   ]
  },
  {
   "cell_type": "code",
   "execution_count": 117,
   "id": "3d51d4c2",
   "metadata": {},
   "outputs": [
    {
     "data": {
      "image/png": "[encoded data removed]",
      "text/plain": [
       "<Figure size 288x288 with 2 Axes>"
      ]
     },
     "metadata": {
      "needs_background": "light"
     },
     "output_type": "display_data"
    }
   ],
   "source": [
    "plt.matshow(results)\n",
    "\n",
    "plt.colorbar()\n",
    "plt.show()"
   ]
  },
  {
   "cell_type": "code",
   "execution_count": 118,
   "id": "ea15f5f1",
   "metadata": {},
   "outputs": [
    {
     "data": {
      "text/plain": [
       "0.825"
      ]
     },
     "execution_count": 118,
     "metadata": {},
     "output_type": "execute_result"
    }
   ],
   "source": [
    "recall_score(Ytest, y_pred,average = 'weighted')"
   ]
  },
  {
   "cell_type": "code",
   "execution_count": 119,
   "id": "a90bcb02",
   "metadata": {},
   "outputs": [
    {
     "data": {
      "text/plain": [
       "0.8295392953929539"
      ]
     },
     "execution_count": 119,
     "metadata": {},
     "output_type": "execute_result"
    }
   ],
   "source": [
    "precision_score(Ytest, y_pred,average = 'weighted')"
   ]
  },
  {
   "cell_type": "code",
   "execution_count": null,
   "id": "c7dd26c3",
   "metadata": {},
   "outputs": [],
   "source": []
  }
 ],
 "metadata": {
  "kernelspec": {
   "display_name": "Python 3 (ipykernel)",
   "language": "python",
   "name": "python3"
  },
  "language_info": {
   "codemirror_mode": {
    "name": "ipython",
    "version": 3
   },
   "file_extension": ".py",
   "mimetype": "text/x-python",
   "name": "python",
   "nbconvert_exporter": "python",
   "pygments_lexer": "ipython3",
   "version": "3.9.12"
  }
 },
 "nbformat": 4,
 "nbformat_minor": 5
}
