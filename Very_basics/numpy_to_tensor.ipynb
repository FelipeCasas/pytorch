{
 "cells": [
  {
   "cell_type": "code",
   "execution_count": 1,
   "id": "fe06444f",
   "metadata": {},
   "outputs": [],
   "source": [
    "import numpy as np\n",
    "import torch"
   ]
  },
  {
   "cell_type": "code",
   "execution_count": 4,
   "id": "36f993f5",
   "metadata": {},
   "outputs": [],
   "source": [
    "t = torch.Tensor([2,4,5]) \n",
    "n = t.numpy()"
   ]
  },
  {
   "cell_type": "code",
   "execution_count": 8,
   "id": "c92b40be",
   "metadata": {},
   "outputs": [
    {
     "name": "stdout",
     "output_type": "stream",
     "text": [
      "<class 'numpy.ndarray'>\n",
      "<class 'torch.Tensor'>\n"
     ]
    }
   ],
   "source": [
    "print(type(n))\n",
    "print(type(t)) "
   ]
  },
  {
   "cell_type": "code",
   "execution_count": 10,
   "id": "3a483b0c",
   "metadata": {},
   "outputs": [
    {
     "name": "stdout",
     "output_type": "stream",
     "text": [
      "tensor([2., 0., 5.])\n"
     ]
    }
   ],
   "source": [
    "#They share the memory\n",
    "n[1]= 0\n",
    "print(t)"
   ]
  },
  {
   "cell_type": "code",
   "execution_count": 12,
   "id": "4acd6429",
   "metadata": {},
   "outputs": [
    {
     "data": {
      "text/plain": [
       "tensor([2., 0., 5.])"
      ]
     },
     "execution_count": 12,
     "metadata": {},
     "output_type": "execute_result"
    }
   ],
   "source": [
    "t2 = torch.from_numpy(n)\n",
    "t2"
   ]
  },
  {
   "cell_type": "code",
   "execution_count": 13,
   "id": "639536f3",
   "metadata": {},
   "outputs": [
    {
     "data": {
      "text/plain": [
       "tensor([2., 0., 1.])"
      ]
     },
     "execution_count": 13,
     "metadata": {},
     "output_type": "execute_result"
    }
   ],
   "source": [
    "t2[2] = 1 \n",
    "t"
   ]
  },
  {
   "cell_type": "code",
   "execution_count": 14,
   "id": "8d41eb40",
   "metadata": {},
   "outputs": [],
   "source": [
    "t3 = torch.as_tensor(n)"
   ]
  },
  {
   "cell_type": "code",
   "execution_count": 19,
   "id": "d374be6b",
   "metadata": {},
   "outputs": [
    {
     "name": "stdout",
     "output_type": "stream",
     "text": [
      "[2. 0. 1.]\n",
      "[25.  0.  1.]\n"
     ]
    }
   ],
   "source": [
    "#Copy of data \n",
    "t4 = torch.tensor(n)\n",
    "t4[0]= 25\n",
    "print(n)\n",
    "print(t4.numpy())"
   ]
  },
  {
   "cell_type": "code",
   "execution_count": 28,
   "id": "54f01303",
   "metadata": {},
   "outputs": [
    {
     "name": "stdout",
     "output_type": "stream",
     "text": [
      "Help on function is_available in module torch.cuda:\n",
      "\n",
      "is_available() -> bool\n",
      "    Returns a bool indicating if CUDA is currently available.\n",
      "\n"
     ]
    }
   ],
   "source": [
    "help(torch.cuda.is_available)"
   ]
  },
  {
   "cell_type": "code",
   "execution_count": null,
   "id": "d6ae7c55",
   "metadata": {},
   "outputs": [],
   "source": []
  }
 ],
 "metadata": {
  "kernelspec": {
   "display_name": "Python 3 (ipykernel)",
   "language": "python",
   "name": "python3"
  },
  "language_info": {
   "codemirror_mode": {
    "name": "ipython",
    "version": 3
   },
   "file_extension": ".py",
   "mimetype": "text/x-python",
   "name": "python",
   "nbconvert_exporter": "python",
   "pygments_lexer": "ipython3",
   "version": "3.9.12"
  }
 },
 "nbformat": 4,
 "nbformat_minor": 5
}
