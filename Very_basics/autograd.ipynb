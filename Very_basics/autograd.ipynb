{
 "cells": [
  {
   "cell_type": "markdown",
   "id": "6f3f8de6",
   "metadata": {},
   "source": [
    "# Computing Gradients with AutoGrad\n",
    "\n",
    "Automatic diferentiation: Forward and Backward Pass based on Taylor's Series Expansion. Reverse_mode since you only use one pass for every parameter."
   ]
  },
  {
   "cell_type": "code",
   "execution_count": 69,
   "id": "43130ca4",
   "metadata": {},
   "outputs": [],
   "source": [
    "import torch\n",
    "from torch.autograd import Variable"
   ]
  },
  {
   "cell_type": "code",
   "execution_count": 7,
   "id": "e0acfb1b",
   "metadata": {},
   "outputs": [
    {
     "data": {
      "text/plain": [
       "tensor([[1., 2., 3.],\n",
       "        [4., 5., 6.]])"
      ]
     },
     "execution_count": 7,
     "metadata": {},
     "output_type": "execute_result"
    }
   ],
   "source": [
    "t = torch.Tensor ([[1,2,3],[4,5,6]])\n",
    "t2 = torch.Tensor ([[17,27,73],[48,59,69]])\n",
    "t"
   ]
  },
  {
   "cell_type": "code",
   "execution_count": 32,
   "id": "3c4b2372",
   "metadata": {},
   "outputs": [
    {
     "data": {
      "text/plain": [
       "tensor([[1., 2., 3.],\n",
       "        [4., 5., 6.]], requires_grad=True)"
      ]
     },
     "execution_count": 32,
     "metadata": {},
     "output_type": "execute_result"
    }
   ],
   "source": [
    "t.requires_grad\n",
    "t.requires_grad_()# Enable requires grad"
   ]
  },
  {
   "cell_type": "code",
   "execution_count": 12,
   "id": "4e26400a",
   "metadata": {},
   "outputs": [
    {
     "data": {
      "text/plain": [
       "False"
      ]
     },
     "execution_count": 12,
     "metadata": {},
     "output_type": "execute_result"
    }
   ],
   "source": [
    "t2.requires_grad"
   ]
  },
  {
   "cell_type": "code",
   "execution_count": 14,
   "id": "be0420b5",
   "metadata": {},
   "outputs": [
    {
     "name": "stdout",
     "output_type": "stream",
     "text": [
      "None\n"
     ]
    }
   ],
   "source": [
    "print(t.grad) # Check for gradients to calculate"
   ]
  },
  {
   "cell_type": "code",
   "execution_count": 15,
   "id": "4830501a",
   "metadata": {},
   "outputs": [
    {
     "name": "stdout",
     "output_type": "stream",
     "text": [
      "None\n"
     ]
    }
   ],
   "source": [
    "print(t.grad_fn)"
   ]
  },
  {
   "cell_type": "code",
   "execution_count": 17,
   "id": "02abfe41",
   "metadata": {},
   "outputs": [],
   "source": [
    "out_t = t * t2"
   ]
  },
  {
   "cell_type": "code",
   "execution_count": 18,
   "id": "f74e1637",
   "metadata": {},
   "outputs": [
    {
     "data": {
      "text/plain": [
       "True"
      ]
     },
     "execution_count": 18,
     "metadata": {},
     "output_type": "execute_result"
    }
   ],
   "source": [
    "out_t.requires_grad"
   ]
  },
  {
   "cell_type": "code",
   "execution_count": 20,
   "id": "7f666f65",
   "metadata": {},
   "outputs": [
    {
     "data": {
      "text/plain": [
       "<MulBackward0 at 0x29454204ee0>"
      ]
     },
     "execution_count": 20,
     "metadata": {},
     "output_type": "execute_result"
    }
   ],
   "source": [
    "out_t.grad_fn #references last function that created tensor. IT is a modular way of creating backward passes with pointers"
   ]
  },
  {
   "cell_type": "code",
   "execution_count": 22,
   "id": "e5745013",
   "metadata": {},
   "outputs": [
    {
     "data": {
      "text/plain": [
       "torch.Size([2, 3])"
      ]
     },
     "execution_count": 22,
     "metadata": {},
     "output_type": "execute_result"
    }
   ],
   "source": [
    "t.shape"
   ]
  },
  {
   "cell_type": "code",
   "execution_count": 49,
   "id": "fc001550",
   "metadata": {},
   "outputs": [
    {
     "name": "stdout",
     "output_type": "stream",
     "text": [
      "False\n"
     ]
    }
   ],
   "source": [
    "with torch.no_grad(): #new tensors have require grad off even if parent has it on\n",
    "    n_t = t *3 \n",
    "    print(n_t.requires_grad)\n",
    "pass"
   ]
  },
  {
   "cell_type": "code",
   "execution_count": 50,
   "id": "0e356689",
   "metadata": {},
   "outputs": [],
   "source": [
    "def cal(t):\n",
    "    return t *2\n"
   ]
  },
  {
   "cell_type": "code",
   "execution_count": 56,
   "id": "623aa95a",
   "metadata": {},
   "outputs": [],
   "source": [
    "@torch.no_grad()\n",
    "def cal_no_grad(t):\n",
    "    return t*2"
   ]
  },
  {
   "cell_type": "code",
   "execution_count": 57,
   "id": "a4f0ee4e",
   "metadata": {},
   "outputs": [
    {
     "data": {
      "text/plain": [
       "tensor([[ 2.,  4.,  6.],\n",
       "        [ 8., 10., 12.]], grad_fn=<MulBackward0>)"
      ]
     },
     "execution_count": 57,
     "metadata": {},
     "output_type": "execute_result"
    }
   ],
   "source": [
    "n_t2 = cal(t)\n",
    "n_t2"
   ]
  },
  {
   "cell_type": "code",
   "execution_count": 58,
   "id": "167ea8fb",
   "metadata": {},
   "outputs": [
    {
     "name": "stdout",
     "output_type": "stream",
     "text": [
      "False\n"
     ]
    }
   ],
   "source": [
    "n_t2 = cal_no_grad(t)\n",
    "print(n_t2.requires_grad)"
   ]
  },
  {
   "cell_type": "code",
   "execution_count": 59,
   "id": "b076c00c",
   "metadata": {},
   "outputs": [],
   "source": [
    "with torch.enable_grad(): #Enables\n",
    "    pass"
   ]
  },
  {
   "cell_type": "code",
   "execution_count": 62,
   "id": "67cb7527",
   "metadata": {},
   "outputs": [
    {
     "ename": "TypeError",
     "evalue": "new() received an invalid combination of arguments - got (list, requires_grad=bool), but expected one of:\n * (*, torch.device device)\n      didn't match because some of the keywords were incorrect: requires_grad\n * (torch.Storage storage)\n * (Tensor other)\n * (tuple of ints size, *, torch.device device)\n * (object data, *, torch.device device)\n",
     "output_type": "error",
     "traceback": [
      "\u001b[1;31m---------------------------------------------------------------------------\u001b[0m",
      "\u001b[1;31mTypeError\u001b[0m                                 Traceback (most recent call last)",
      "Input \u001b[1;32mIn [62]\u001b[0m, in \u001b[0;36m<cell line: 1>\u001b[1;34m()\u001b[0m\n\u001b[1;32m----> 1\u001b[0m t3 \u001b[38;5;241m=\u001b[39m \u001b[43mtorch\u001b[49m\u001b[38;5;241;43m.\u001b[39;49m\u001b[43mTensor\u001b[49m\u001b[43m(\u001b[49m\u001b[43m[\u001b[49m\u001b[43m[\u001b[49m\u001b[38;5;241;43m12\u001b[39;49m\u001b[43m,\u001b[49m\u001b[38;5;241;43m12\u001b[39;49m\u001b[43m,\u001b[49m\u001b[38;5;241;43m53\u001b[39;49m\u001b[43m]\u001b[49m\u001b[43m,\u001b[49m\n\u001b[0;32m      2\u001b[0m \u001b[43m                   \u001b[49m\u001b[43m[\u001b[49m\u001b[38;5;241;43m44\u001b[39;49m\u001b[43m,\u001b[49m\u001b[38;5;241;43m35\u001b[39;49m\u001b[43m,\u001b[49m\u001b[38;5;241;43m36\u001b[39;49m\u001b[43m]\u001b[49m\u001b[43m]\u001b[49m\u001b[43m,\u001b[49m\u001b[43m \u001b[49m\u001b[43mrequires_grad\u001b[49m\u001b[43m \u001b[49m\u001b[38;5;241;43m=\u001b[39;49m\u001b[43m \u001b[49m\u001b[38;5;28;43;01mTrue\u001b[39;49;00m\u001b[43m)\u001b[49m\n",
      "\u001b[1;31mTypeError\u001b[0m: new() received an invalid combination of arguments - got (list, requires_grad=bool), but expected one of:\n * (*, torch.device device)\n      didn't match because some of the keywords were incorrect: requires_grad\n * (torch.Storage storage)\n * (Tensor other)\n * (tuple of ints size, *, torch.device device)\n * (object data, *, torch.device device)\n"
     ]
    }
   ],
   "source": [
    "t3 = torch.Tensor([[12,12,53],\n",
    "                   [44,35,36]], requires_grad = True) # Probably version error"
   ]
  },
  {
   "cell_type": "code",
   "execution_count": 66,
   "id": "2c5d755e",
   "metadata": {},
   "outputs": [],
   "source": [
    "f_t = (t * t2).mean()\n",
    "f_t.backward() #Calculates grads"
   ]
  },
  {
   "cell_type": "code",
   "execution_count": 68,
   "id": "30a7ae79",
   "metadata": {},
   "outputs": [],
   "source": [
    "d_t = t.detach() # outside of graph (Network)"
   ]
  },
  {
   "cell_type": "markdown",
   "id": "5e254b34",
   "metadata": {},
   "source": [
    "Simple Neural Network\n"
   ]
  },
  {
   "cell_type": "code",
   "execution_count": null,
   "id": "0cfd1248",
   "metadata": {},
   "outputs": [],
   "source": []
  }
 ],
 "metadata": {
  "kernelspec": {
   "display_name": "Python 3 (ipykernel)",
   "language": "python",
   "name": "python3"
  },
  "language_info": {
   "codemirror_mode": {
    "name": "ipython",
    "version": 3
   },
   "file_extension": ".py",
   "mimetype": "text/x-python",
   "name": "python",
   "nbconvert_exporter": "python",
   "pygments_lexer": "ipython3",
   "version": "3.9.12"
  }
 },
 "nbformat": 4,
 "nbformat_minor": 5
}
