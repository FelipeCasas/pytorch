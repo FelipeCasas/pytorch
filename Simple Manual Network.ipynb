{
 "cells": [
  {
   "cell_type": "markdown",
   "id": "23225b2a",
   "metadata": {},
   "source": [
    "# Simple Network\n"
   ]
  },
  {
   "cell_type": "code",
   "execution_count": 1,
   "id": "c8a9507a",
   "metadata": {},
   "outputs": [],
   "source": [
    "import numpy as np\n",
    "import matplotlib.pyplot as plt"
   ]
  },
  {
   "cell_type": "code",
   "execution_count": 2,
   "id": "4ca16a8a",
   "metadata": {},
   "outputs": [],
   "source": [
    "x_train = np.array([[4.7],[2.4],[7.5],[7.1],[4.3],[7.816],\n",
    "                   [8.9], [5.2], [8.59], [2.1], [8], \n",
    "                   [10], [4.5], [6], [4]],\n",
    "                  dtype = np.float32)\n",
    "y_train = np.array([[2.6], [1.6], [3.09], [2.4], [2.4], [3.357],\n",
    "                    [2.6], [1.96], [3.53], [1.76], [3.2],\n",
    "                    [3.5], [1.6], [2.5], [2.2]],\n",
    "                  dtype = np.float32)"
   ]
  },
  {
   "cell_type": "code",
   "execution_count": 4,
   "id": "77acfa0e",
   "metadata": {},
   "outputs": [
    {
     "data": {
      "text/plain": [
       "<function matplotlib.pyplot.show(close=None, block=None)>"
      ]
     },
     "execution_count": 4,
     "metadata": {},
     "output_type": "execute_result"
    },
    {
     "data": {
      "image/png": "[encoded data removed]",
      "text/plain": [
       "<Figure size 864x576 with 1 Axes>"
      ]
     },
     "metadata": {
      "needs_background": "light"
     },
     "output_type": "display_data"
    }
   ],
   "source": [
    "plt.figure(figsize =(12,8))\n",
    "\n",
    "plt. scatter(x_train, y_train, label = 'Original data', s=250, c= 'r')\n",
    "\n",
    "plt.legend()\n",
    "plt.show"
   ]
  },
  {
   "cell_type": "code",
   "execution_count": 5,
   "id": "5c205bd1",
   "metadata": {},
   "outputs": [],
   "source": [
    "import torch"
   ]
  },
  {
   "cell_type": "code",
   "execution_count": 6,
   "id": "35a08b4d",
   "metadata": {},
   "outputs": [
    {
     "name": "stdout",
     "output_type": "stream",
     "text": [
      "require_grad for X_train:  False\n",
      "require_grad for Y_train:  False\n"
     ]
    }
   ],
   "source": [
    "X_train = torch.from_numpy(x_train)\n",
    "Y_train = torch.from_numpy(y_train)\n",
    "\n",
    "print('require_grad for X_train: ', X_train.requires_grad)\n",
    "print('require_grad for Y_train: ', Y_train.requires_grad)"
   ]
  },
  {
   "cell_type": "code",
   "execution_count": 7,
   "id": "cd91c744",
   "metadata": {},
   "outputs": [],
   "source": [
    "input_size = 1\n",
    "hidden_size = 1\n",
    "output_size = 1"
   ]
  },
  {
   "cell_type": "code",
   "execution_count": 59,
   "id": "0b2b5cc1",
   "metadata": {},
   "outputs": [
    {
     "data": {
      "text/plain": [
       "torch.Size([1, 1])"
      ]
     },
     "execution_count": 59,
     "metadata": {},
     "output_type": "execute_result"
    }
   ],
   "source": [
    "# Manual layer construction\n",
    "w1 = torch.rand(input_size, hidden_size,\n",
    "               requires_grad = True)\n",
    "w1.shape"
   ]
  },
  {
   "cell_type": "code",
   "execution_count": 60,
   "id": "e637b1d8",
   "metadata": {},
   "outputs": [
    {
     "data": {
      "text/plain": [
       "torch.Size([1, 1])"
      ]
     },
     "execution_count": 60,
     "metadata": {},
     "output_type": "execute_result"
    }
   ],
   "source": [
    "w2 = torch.rand(hidden_size, output_size,\n",
    "               requires_grad = True)\n",
    "w2.shape"
   ]
  },
  {
   "cell_type": "code",
   "execution_count": 61,
   "id": "8879a749",
   "metadata": {},
   "outputs": [],
   "source": [
    "learning_rate = 1e-6"
   ]
  },
  {
   "cell_type": "code",
   "execution_count": 62,
   "id": "225af818",
   "metadata": {},
   "outputs": [
    {
     "name": "stdout",
     "output_type": "stream",
     "text": [
      "50 36.33414077758789\n",
      "100 34.50340270996094\n",
      "150 32.7406120300293\n",
      "200 31.045976638793945\n",
      "250 29.419469833374023\n",
      "300 27.860925674438477\n",
      "350 26.370014190673828\n",
      "400 24.94620704650879\n",
      "450 23.58881187438965\n",
      "500 22.296945571899414\n",
      "550 21.06957244873047\n",
      "600 19.905471801757812\n",
      "650 18.803251266479492\n",
      "700 17.761445999145508\n",
      "750 16.77838134765625\n",
      "800 15.852293014526367\n",
      "850 14.981314659118652\n",
      "900 14.163508415222168\n",
      "950 13.396867752075195\n",
      "1000 12.679296493530273\n",
      "1050 12.008719444274902\n",
      "1100 11.3829927444458\n",
      "1150 10.799978256225586\n",
      "1200 10.257554054260254\n",
      "1250 9.753602027893066\n",
      "1300 9.286026954650879\n",
      "1350 8.852794647216797\n",
      "1400 8.451891899108887\n",
      "1450 8.08139419555664\n",
      "1500 7.739382743835449\n",
      "1550 7.424047946929932\n",
      "1600 7.133645534515381\n",
      "1650 6.866499423980713\n",
      "1700 6.6210126876831055\n",
      "1750 6.395650386810303\n",
      "1800 6.188978672027588\n",
      "1850 5.999625205993652\n",
      "1900 5.826295375823975\n",
      "1950 5.6677727699279785\n",
      "2000 5.522919654846191\n",
      "2050 5.390664577484131\n",
      "2100 5.269997596740723\n",
      "2150 5.159996509552002\n",
      "2200 5.059786796569824\n",
      "2250 4.968558311462402\n",
      "2300 4.885563373565674\n",
      "2350 4.810099124908447\n",
      "2400 4.741543769836426\n",
      "2450 4.679278373718262\n",
      "2500 4.62276554107666\n",
      "2550 4.571497917175293\n",
      "2600 4.525015354156494\n",
      "2650 4.482890605926514\n",
      "2700 4.444735050201416\n",
      "2750 4.410184860229492\n",
      "2800 4.378916263580322\n",
      "2850 4.35062313079834\n",
      "2900 4.3250412940979\n",
      "2950 4.301913261413574\n"
     ]
    }
   ],
   "source": [
    "for iter in range (1,3000):\n",
    "    y_pred = X_train.mm(w1).mm(w2) #Matrix mult\n",
    "    loss = (y_pred - Y_train).pow(2).sum() #all errors summed\n",
    "    \n",
    "    if iter % 50 == 0:\n",
    "        print(iter, loss.item())\n",
    "    \n",
    "    loss.backward() # calculate grads\n",
    "    \n",
    "    with torch.no_grad():\n",
    "        w1 -= learning_rate * w1.grad #lr\n",
    "        w2 -= learning_rate * w2.grad\n",
    "        w1.grad.zero_()\n",
    "        w2.grad.zero_()# Reset"
   ]
  },
  {
   "cell_type": "code",
   "execution_count": 63,
   "id": "58b110cb",
   "metadata": {},
   "outputs": [
    {
     "name": "stdout",
     "output_type": "stream",
     "text": [
      "w1:  tensor([[0.7469]], requires_grad=True)\n",
      "w2:  tensor([[0.5078]], requires_grad=True)\n"
     ]
    }
   ],
   "source": [
    "print('w1: ', w1)\n",
    "print('w2: ', w2)"
   ]
  },
  {
   "cell_type": "code",
   "execution_count": 64,
   "id": "900c6bdd",
   "metadata": {},
   "outputs": [
    {
     "data": {
      "text/plain": [
       "tensor([[ 4.7000],\n",
       "        [ 2.4000],\n",
       "        [ 7.5000],\n",
       "        [ 7.1000],\n",
       "        [ 4.3000],\n",
       "        [ 7.8160],\n",
       "        [ 8.9000],\n",
       "        [ 5.2000],\n",
       "        [ 8.5900],\n",
       "        [ 2.1000],\n",
       "        [ 8.0000],\n",
       "        [10.0000],\n",
       "        [ 4.5000],\n",
       "        [ 6.0000],\n",
       "        [ 4.0000]])"
      ]
     },
     "execution_count": 64,
     "metadata": {},
     "output_type": "execute_result"
    }
   ],
   "source": [
    "x_train_tensor = torch.from_numpy(x_train)\n",
    "x_train_tensor"
   ]
  },
  {
   "cell_type": "code",
   "execution_count": 65,
   "id": "2d61774b",
   "metadata": {},
   "outputs": [
    {
     "data": {
      "text/plain": [
       "tensor([[1.7826],\n",
       "        [0.9102],\n",
       "        [2.8445],\n",
       "        [2.6928],\n",
       "        [1.6308],\n",
       "        [2.9643],\n",
       "        [3.3755],\n",
       "        [1.9722],\n",
       "        [3.2579],\n",
       "        [0.7965],\n",
       "        [3.0341],\n",
       "        [3.7927],\n",
       "        [1.7067],\n",
       "        [2.2756],\n",
       "        [1.5171]], grad_fn=<MmBackward0>)"
      ]
     },
     "execution_count": 65,
     "metadata": {},
     "output_type": "execute_result"
    }
   ],
   "source": [
    "predicted_in_tensor = x_train_tensor.mm(w1).mm(w2)\n",
    "predicted_in_tensor"
   ]
  },
  {
   "cell_type": "code",
   "execution_count": 57,
   "id": "eac9f1fd",
   "metadata": {},
   "outputs": [
    {
     "data": {
      "text/plain": [
       "array([[1.864206  ],\n",
       "       [0.95193505],\n",
       "       [2.9747968 ],\n",
       "       [2.8161411 ],\n",
       "       [1.7055502 ],\n",
       "       [3.1001348 ],\n",
       "       [3.530092  ],\n",
       "       [2.0625257 ],\n",
       "       [3.4071338 ],\n",
       "       [0.832943  ],\n",
       "       [3.1731167 ],\n",
       "       [3.9663959 ],\n",
       "       [1.7848781 ],\n",
       "       [2.3798375 ],\n",
       "       [1.5865583 ]], dtype=float32)"
      ]
     },
     "execution_count": 57,
     "metadata": {},
     "output_type": "execute_result"
    }
   ],
   "source": [
    "predicted = predicted_in_tensor.detach().numpy()\n",
    "predicted"
   ]
  },
  {
   "cell_type": "code",
   "execution_count": 58,
   "id": "9f7cfe60",
   "metadata": {},
   "outputs": [
    {
     "data": {
      "image/png": "[encoded data removed]",
      "text/plain": [
       "<Figure size 864x576 with 1 Axes>"
      ]
     },
     "metadata": {
      "needs_background": "light"
     },
     "output_type": "display_data"
    }
   ],
   "source": [
    "plt.figure(figsize = (12,8))\n",
    "\n",
    "plt.scatter(x_train, y_train, label = 'Original data', s = 250, c = 'b')\n",
    "\n",
    "plt.plot(x_train,predicted, label = 'Fitted line')\n",
    "\n",
    "plt.legend()\n",
    "\n",
    "plt.show()"
   ]
  },
  {
   "cell_type": "code",
   "execution_count": null,
   "id": "fc33d9c0",
   "metadata": {},
   "outputs": [],
   "source": []
  }
 ],
 "metadata": {
  "kernelspec": {
   "display_name": "Python 3 (ipykernel)",
   "language": "python",
   "name": "python3"
  },
  "language_info": {
   "codemirror_mode": {
    "name": "ipython",
    "version": 3
   },
   "file_extension": ".py",
   "mimetype": "text/x-python",
   "name": "python",
   "nbconvert_exporter": "python",
   "pygments_lexer": "ipython3",
   "version": "3.9.12"
  }
 },
 "nbformat": 4,
 "nbformat_minor": 5
}
